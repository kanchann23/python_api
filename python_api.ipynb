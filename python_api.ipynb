{
 "cells": [
  {
   "cell_type": "code",
   "execution_count": null,
   "id": "85a524db",
   "metadata": {},
   "outputs": [],
   "source": [
    "from http.server import BaseHTTPRequestHandler, HTTPServer\n",
    "#These classes are necessary to handle HTTP requests and create an HTTP server.\n",
    "class apiHandler(BaseHTTPRequestHandler):\n",
    "    #we will override its methods to define how the API responds to different types of HTTP requests.\n",
    "    def do_GET(self):\n",
    "        # do_GET method is called when the server receives a GET request.\n",
    "\n",
    "\n",
    "        if self.path == '/ping':\n",
    "            #it checks if the path of the incoming request is /ping.\n",
    "            # Send response status code\n",
    "            self.send_response(200)\n",
    "\n",
    "            # Send headers\n",
    "            self.send_header('Content-type', 'text/html')\n",
    "            self.end_headers()\n",
    "\n",
    "            # Send response content\n",
    "            message = \"ping-pong\"\n",
    "            self.wfile.write(message.encode())\n",
    "            # sends the response content back to the client\n",
    "        else:\n",
    "            #  return 404 Not Found\n",
    "            self.send_response(404)\n",
    "            self.send_header('Content-type', 'text/html')\n",
    "            self.end_headers()\n",
    "            self.wfile.write(b'go to ping page')\n",
    "\n",
    "def run_server():\n",
    "    # Set the server address and port\n",
    "    server_address = ('localhost', 8080)\n",
    "\n",
    "    # Create an HTTP server with the custom request handler\n",
    "    httpd = HTTPServer(server_address, apiHandler)\n",
    "    print('Starting server on http://{}:{}'.format(*server_address))\n",
    "\n",
    "    # Start the server to handle incoming requests\n",
    "    httpd.serve_forever()\n",
    "\n",
    "# Call the run_server() function directly\n",
    "run_server()\n"
   ]
  },
  {
   "cell_type": "code",
   "execution_count": null,
   "id": "7f9e182e",
   "metadata": {},
   "outputs": [],
   "source": []
  }
 ],
 "metadata": {
  "kernelspec": {
   "display_name": "Python 3 (ipykernel)",
   "language": "python",
   "name": "python3"
  },
  "language_info": {
   "codemirror_mode": {
    "name": "ipython",
    "version": 3
   },
   "file_extension": ".py",
   "mimetype": "text/x-python",
   "name": "python",
   "nbconvert_exporter": "python",
   "pygments_lexer": "ipython3",
   "version": "3.10.6"
  }
 },
 "nbformat": 4,
 "nbformat_minor": 5
}
